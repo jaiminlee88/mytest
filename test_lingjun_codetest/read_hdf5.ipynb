{
 "cells": [
  {
   "cell_type": "code",
   "execution_count": 32,
   "metadata": {},
   "outputs": [
    {
     "name": "stdout",
     "output_type": "stream",
     "text": [
      " Group: / len:1\n",
      "  |- Dataset: /dset (size:26788)\n",
      "  |  |- (dtype=[('TradingDay', '<i8'), ('LastPrice', '<f8'), ('BPrice1', '<f8'), ('BVol1', '<i8'), ('SPrice1', '<f8'), ('SVol1', '<i8'), ('Volume', '<i8'), ('Turnover', '<f8'), ('OpenInterest', '<f8'), ('UpperLimitPrice', '<f8'), ('LowerLimitPrice', '<f8'), ('OpenPrice', '<f8'), ('PreSettlementPrice', '<f8'), ('PreClosePrice', '<f8'), ('PreOpenInterest', '<f8'), ('ActionDay', '<i8'), ('BPrice2', '<f8'), ('BVol2', '<i8'), ('BPrice3', '<f8'), ('BVol3', '<i8'), ('BPrice4', '<f8'), ('BVol4', '<i8'), ('BPrice5', '<f8'), ('BVol5', '<i8'), ('SPrice2', '<f8'), ('SVol2', '<i8'), ('SPrice3', '<f8'), ('SVol3', '<i8'), ('SPrice4', '<f8'), ('SVol4', '<i8'), ('SPrice5', '<f8'), ('SVol5', '<i8'), ('exch_time', '<i8'), ('time', '<i8'), ('HighestPrice', '<f8'), ('LowestPrice', '<f8')])\n",
      "  |- TradingDay| LastPrice| BPrice1| BVol1| SPrice1| SVol1| Volume| Turnover| OpenInterest| UpperLimitPrice| LowerLimitPrice| OpenPrice| PreSettlementPrice| PreClosePrice| PreOpenInterest| ActionDay| BPrice2| BVol2| BPrice3| BVol3| BPrice4| BVol4| BPrice5| BVol5| SPrice2| SVol2| SPrice3| SVol3| SPrice4| SVol4| SPrice5| SVol5| exch_time| time| HighestPrice| LowestPrice| \n",
      "       TradingDay  LastPrice  BPrice1  BVol1  SPrice1  SVol1   Volume  \\\n",
      "0        20230110     4106.0   4105.0    297   4106.0     92   363260   \n",
      "1        20230110     4103.0   4101.0     12   4103.0    776   365664   \n",
      "2        20230110     4101.0   4100.0      9   4101.0     28   365821   \n",
      "3        20230110     4100.0   4100.0    450   4101.0      3   366067   \n",
      "4        20230110     4101.0   4101.0    713   4102.0     21   366297   \n",
      "...           ...        ...      ...    ...      ...    ...      ...   \n",
      "26783    20230110     4125.0   4124.0     27   4125.0     70  1082935   \n",
      "26784    20230110     4125.0   4123.0     35   4124.0     31  1083003   \n",
      "26785    20230110     4124.0   4123.0     43   4124.0    119  1083017   \n",
      "26786    20230110     4124.0   4124.0      7   4125.0      9  1083219   \n",
      "26787    20230110     4124.0   4124.0      7   4125.0      9  1083219   \n",
      "\n",
      "           Turnover  OpenInterest  UpperLimitPrice  ...  SPrice3  SVol3  \\\n",
      "0      1.490783e+10     1867480.0           4551.0  ...   4108.0    393   \n",
      "1      1.500643e+10     1867360.0           4551.0  ...   4105.0    657   \n",
      "2      1.501287e+10     1867360.0           4551.0  ...   4103.0    781   \n",
      "3      1.502296e+10     1867390.0           4551.0  ...   4103.0    779   \n",
      "4      1.503239e+10     1867540.0           4551.0  ...   4104.0    331   \n",
      "...             ...           ...              ...  ...      ...    ...   \n",
      "26783  4.450781e+10     1930980.0           4551.0  ...   4127.0     83   \n",
      "26784  4.451062e+10     1930960.0           4551.0  ...   4126.0    117   \n",
      "26785  4.451119e+10     1930950.0           4551.0  ...   4126.0    117   \n",
      "26786  4.451952e+10     1930860.0           4551.0  ...   4127.0     83   \n",
      "26787  4.451952e+10     1930860.0           4551.0  ...   4127.0     83   \n",
      "\n",
      "       SPrice4  SVol4  SPrice5  SVol5            exch_time  \\\n",
      "0       4109.0    388   4110.0    674  1673362800000000000   \n",
      "1       4106.0    402   4107.0    268  1673312400500000000   \n",
      "2       4104.0    326   4105.0    657  1673312401000000000   \n",
      "3       4104.0    328   4105.0    621  1673312401500000000   \n",
      "4       4105.0    612   4106.0    477  1673312402000000000   \n",
      "...        ...    ...      ...    ...                  ...   \n",
      "26783   4128.0    149   4129.0    147  1673333998500000000   \n",
      "26784   4127.0     83   4128.0    149  1673333999000000000   \n",
      "26785   4127.0     83   4128.0    149  1673333999500000000   \n",
      "26786   4128.0    237   4129.0    147  1673334000000000000   \n",
      "26787   4128.0    237   4129.0    147  1673334000500000000   \n",
      "\n",
      "                      time  HighestPrice  LowestPrice  \n",
      "0      1673362800000000000        4106.0       4106.0  \n",
      "1      1673312400500000000        4106.0       4103.0  \n",
      "2      1673312401000000000        4106.0       4101.0  \n",
      "3      1673312401500000000        4106.0       4100.0  \n",
      "4      1673312402000000000        4106.0       4100.0  \n",
      "...                    ...           ...          ...  \n",
      "26783  1673333998500000000        4136.0       4087.0  \n",
      "26784  1673333999000000000        4136.0       4087.0  \n",
      "26785  1673333999500000000        4136.0       4087.0  \n",
      "26786  1673334000000000000        4136.0       4087.0  \n",
      "26787  1673334000500000000        4136.0       4087.0  \n",
      "\n",
      "[26788 rows x 36 columns]\n"
     ]
    }
   ],
   "source": [
    "import h5py\n",
    "import numpy as np\n",
    "import pandas as pd\n",
    "\n",
    "fname = \"/home/jmli/mytest/lingjun_codetest/rb2305.hdf5\"\n",
    "\n",
    "def h5list(f,tab):\n",
    "    print(tab,'Group:',f.name,'len:%d'%len(f))\n",
    "    mysp2=tab[:-1]+ '  |-*'\n",
    "    for vv in f.attrs.keys():  # 打印属性\n",
    "        print(mysp2,end=' ')\n",
    "        print('%s = %s'% (vv,f.attrs[vv]))\n",
    "    mysp=tab[:-1] + '  |-'\n",
    "\n",
    "    data = None\n",
    "    for k in f.keys():\n",
    "        d = f[k]\n",
    "        if isinstance(d,h5py.Group):\n",
    "            h5list(d,mysp)\n",
    "        elif isinstance(d,h5py.Dataset):\n",
    "            print(mysp,'Dataset:',d.name,'(size:%d)'%d.size)\n",
    "            mysp1=mysp[:-1]+ '  |-'\n",
    "            print(mysp1,'(dtype=%s)'%d.dtype)\n",
    "            colums = []\n",
    "            if d.dtype.names is not None:\n",
    "                print(mysp,end=' ')\n",
    "                for vv in d.dtype.names:\n",
    "                    print(vv,end='| ')\n",
    "                    colums.append(vv)\n",
    "                print()\n",
    "            mysp2=mysp1[:-1]+ '  |-*'\n",
    "            for vv in d.attrs.keys():  # 打印属性\n",
    "                print(mysp2,end=' ')\n",
    "                try:\n",
    "                    print('%s = %s'% (vv,d.attrs[vv]))\n",
    "                except TypeError as e:\n",
    "                    print('%s = %s'% (vv,e))\n",
    "                except:\n",
    "                    print('%s = ?? Other ERR'% (vv,))\n",
    "            # print(d[:12])  # 打印12组数据看看\n",
    "            data = pd.DataFrame(d[:],columns=colums)\n",
    "        else:\n",
    "            print('??->',d,'Unkown Object!')\n",
    "    return data\n",
    "\n",
    "f = h5py.File(fname,'r')\n",
    "data  = h5list(f,'')\n",
    "print(data)\n",
    "f.close()\n"
   ]
  },
  {
   "cell_type": "code",
   "execution_count": 36,
   "metadata": {},
   "outputs": [
    {
     "data": {
      "text/plain": [
       "Index(['TradingDay', 'LastPrice', 'BPrice1', 'BVol1', 'SPrice1', 'SVol1',\n",
       "       'Volume', 'Turnover', 'OpenInterest', 'UpperLimitPrice',\n",
       "       'LowerLimitPrice', 'OpenPrice', 'PreSettlementPrice', 'PreClosePrice',\n",
       "       'PreOpenInterest', 'ActionDay', 'BPrice2', 'BVol2', 'BPrice3', 'BVol3',\n",
       "       'BPrice4', 'BVol4', 'BPrice5', 'BVol5', 'SPrice2', 'SVol2', 'SPrice3',\n",
       "       'SVol3', 'SPrice4', 'SVol4', 'SPrice5', 'SVol5', 'exch_time', 'time',\n",
       "       'HighestPrice', 'LowestPrice'],\n",
       "      dtype='object')"
      ]
     },
     "execution_count": 36,
     "metadata": {},
     "output_type": "execute_result"
    }
   ],
   "source": [
    "data.columns"
   ]
  },
  {
   "cell_type": "code",
   "execution_count": 35,
   "metadata": {},
   "outputs": [],
   "source": [
    "data.to_csv('rb2305.csv',index=False)"
   ]
  }
 ],
 "metadata": {
  "kernelspec": {
   "display_name": "Python 3",
   "language": "python",
   "name": "python3"
  },
  "language_info": {
   "codemirror_mode": {
    "name": "ipython",
    "version": 3
   },
   "file_extension": ".py",
   "mimetype": "text/x-python",
   "name": "python",
   "nbconvert_exporter": "python",
   "pygments_lexer": "ipython3",
   "version": "3.8.9"
  }
 },
 "nbformat": 4,
 "nbformat_minor": 2
}

{
 "cells": [
  {
   "cell_type": "code",
   "execution_count": 1,
   "metadata": {},
   "outputs": [
    {
     "ename": "AttributeError",
     "evalue": "module 'dbfpy3.dbf' has no attribute 'newRecord'",
     "output_type": "error",
     "traceback": [
      "\u001b[0;31m---------------------------------------------------------------------------\u001b[0m",
      "\u001b[0;31mAttributeError\u001b[0m                            Traceback (most recent call last)",
      "\u001b[1;32m/home/jmli/mytest/test_dbfpy3.ipynb Cell 1\u001b[0m line \u001b[0;36m8\n\u001b[1;32m      <a href='vscode-notebook-cell://ssh-remote%2Bdev/home/jmli/mytest/test_dbfpy3.ipynb#W0sdnNjb2RlLXJlbW90ZQ%3D%3D?line=4'>5</a>\u001b[0m table \u001b[39m=\u001b[39m dbf\u001b[39m.\u001b[39mDbf(filename)\n\u001b[1;32m      <a href='vscode-notebook-cell://ssh-remote%2Bdev/home/jmli/mytest/test_dbfpy3.ipynb#W0sdnNjb2RlLXJlbW90ZQ%3D%3D?line=6'>7</a>\u001b[0m \u001b[39m# 创建新的记录\u001b[39;00m\n\u001b[0;32m----> <a href='vscode-notebook-cell://ssh-remote%2Bdev/home/jmli/mytest/test_dbfpy3.ipynb#W0sdnNjb2RlLXJlbW90ZQ%3D%3D?line=7'>8</a>\u001b[0m record \u001b[39m=\u001b[39m dbf\u001b[39m.\u001b[39;49mnewRecord()\n\u001b[1;32m     <a href='vscode-notebook-cell://ssh-remote%2Bdev/home/jmli/mytest/test_dbfpy3.ipynb#W0sdnNjb2RlLXJlbW90ZQ%3D%3D?line=9'>10</a>\u001b[0m \u001b[39m# 设置记录的字段值\u001b[39;00m\n\u001b[1;32m     <a href='vscode-notebook-cell://ssh-remote%2Bdev/home/jmli/mytest/test_dbfpy3.ipynb#W0sdnNjb2RlLXJlbW90ZQ%3D%3D?line=10'>11</a>\u001b[0m record[\u001b[39m'\u001b[39m\u001b[39mname\u001b[39m\u001b[39m'\u001b[39m] \u001b[39m=\u001b[39m \u001b[39m'\u001b[39m\u001b[39mValue1\u001b[39m\u001b[39m'\u001b[39m\n",
      "\u001b[0;31mAttributeError\u001b[0m: module 'dbfpy3.dbf' has no attribute 'newRecord'"
     ]
    }
   ],
   "source": [
    "from dbfpy3 import dbf\n",
    "\n",
    "# 打开DBF文件\n",
    "filename = \"test.dbf\"\n",
    "table = dbf.Dbf(filename)\n",
    "\n",
    "# 创建新的记录\n",
    "record = dbf.newRecord()\n",
    "\n",
    "# 设置记录的字段值\n",
    "record['name'] = 'Value1'\n",
    "record['age'] = 12345\n",
    "\n",
    "# 将记录追加到DBF文件中\n",
    "table.append(record)\n",
    "\n",
    "# 保存并关闭DBF文件\n",
    "table.close()\n"
   ]
  },
  {
   "cell_type": "code",
   "execution_count": 8,
   "metadata": {},
   "outputs": [],
   "source": [
    "import dbf\n",
    "\n",
    "# 创建test.dbf文件 共两列 name 字符串 长度25；age 数值 长度3\n",
    "table = dbf.Table(filename='test.dbf', field_specs='name C(25); age N(3,0)', codepage='cp936')\n",
    "# 修改为读写模式\n",
    "table.open(mode=dbf.READ_WRITE)\n",
    "# 添加数据\n",
    "\n",
    "\n",
    "table.append(('xiaoxiong', 18))\n",
    "table.close()\n"
   ]
  },
  {
   "cell_type": "code",
   "execution_count": 1,
   "metadata": {},
   "outputs": [
    {
     "name": "stdout",
     "output_type": "stream",
     "text": [
      "hello\n"
     ]
    },
    {
     "data": {
      "text/plain": [
       "3"
      ]
     },
     "execution_count": 1,
     "metadata": {},
     "output_type": "execute_result"
    }
   ],
   "source": [
    "# /home/jmli/mytest\n",
    "import sys\n",
    "sys.path.append(\"/home/jmli/mytest/myfunc\")\n",
    "\n",
    "from myfunc import myadd\n",
    "myadd(1,2)"
   ]
  }
 ],
 "metadata": {
  "kernelspec": {
   "display_name": "Python 3",
   "language": "python",
   "name": "python3"
  },
  "language_info": {
   "codemirror_mode": {
    "name": "ipython",
    "version": 3
   },
   "file_extension": ".py",
   "mimetype": "text/x-python",
   "name": "python",
   "nbconvert_exporter": "python",
   "pygments_lexer": "ipython3",
   "version": "3.8.9"
  }
 },
 "nbformat": 4,
 "nbformat_minor": 2
}

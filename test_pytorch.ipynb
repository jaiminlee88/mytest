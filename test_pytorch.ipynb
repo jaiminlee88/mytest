{
 "cells": [
  {
   "cell_type": "code",
   "execution_count": 2,
   "metadata": {},
   "outputs": [
    {
     "name": "stdout",
     "output_type": "stream",
     "text": [
      "1.12.1+cu102\n",
      "False\n"
     ]
    }
   ],
   "source": [
    "import torch\n",
    "import time\n",
    "print(torch.__version__)\n",
    "print(torch.cuda.is_available())"
   ]
  },
  {
   "cell_type": "code",
   "execution_count": 16,
   "metadata": {},
   "outputs": [],
   "source": [
    "# example 1, compare cpu and gpu\n",
    "a = torch.randn(10000,1000)\n",
    "b = torch.randn(1000,2000)\n",
    "t0 = time.time()\n",
    "c = torch.matmul(a,b)\n",
    "t1 = time.time()\n",
    "print(a.device, t1 - t0, c.norm(2))\n",
    "\n",
    "# not support cuda\n",
    "# device = torch.device('cuda')\n",
    "# a = a.to(device)\n",
    "# b = b.to(device)"
   ]
  },
  {
   "cell_type": "code",
   "execution_count": 21,
   "metadata": {},
   "outputs": [
    {
     "name": "stdout",
     "output_type": "stream",
     "text": [
      "before: None None None\n",
      "after: tensor(2.) tensor(1.) tensor(1.)\n"
     ]
    }
   ],
   "source": [
    "# example 2, derivation\n",
    "'''\n",
    "y = a^2*x+b*x+c\n",
    "dy/da = 2*a*x\n",
    "dy/db = x\n",
    "dy/dc = 1\n",
    "'''\n",
    "import torch\n",
    "from torch import autograd\n",
    "x = torch.tensor(1.)\n",
    "a = torch.tensor(1., requires_grad=True)\n",
    "b = torch.tensor(2., requires_grad=True)\n",
    "c = torch.tensor(3., requires_grad=True)\n",
    "\n",
    "y = a**2 * x + b * x + c\n",
    "print('before:', a.grad, b.grad, c.grad)\n",
    "grads = autograd.grad(y, [a, b, c])\n",
    "print('after:', grads[0], grads[1], grads[2])"
   ]
  },
  {
   "cell_type": "code",
   "execution_count": 23,
   "metadata": {},
   "outputs": [
    {
     "data": {
      "text/plain": [
       "(tensor(2.), tensor(1.), tensor(1.))"
      ]
     },
     "execution_count": 23,
     "metadata": {},
     "output_type": "execute_result"
    }
   ],
   "source": [
    "grads"
   ]
  }
 ],
 "metadata": {
  "kernelspec": {
   "display_name": "Python 3",
   "language": "python",
   "name": "python3"
  },
  "language_info": {
   "codemirror_mode": {
    "name": "ipython",
    "version": 3
   },
   "file_extension": ".py",
   "mimetype": "text/x-python",
   "name": "python",
   "nbconvert_exporter": "python",
   "pygments_lexer": "ipython3",
   "version": "3.8.9"
  }
 },
 "nbformat": 4,
 "nbformat_minor": 2
}

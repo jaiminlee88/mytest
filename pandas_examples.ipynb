{
 "cells": [
  {
   "cell_type": "code",
   "execution_count": null,
   "metadata": {},
   "outputs": [],
   "source": [
    "avg_ret = pd.DataFrame.from_dict(px_ret, columns=['ret'], orient='index')\n",
    "avg_ret\n",
    "avg_ret['ret+1'] = avg_ret['ret'] + 1\n",
    "# avg_ret.reset_index().to_csv(f'avg_ret_{start_date}_{end_date}.csv', index=False)\n",
    "avg_ret[['ret+1']].cumprod()\n",
    "import matplotlib.pyplot as plt\n",
    "import matplotlib.ticker as ticker\n",
    "fig = plt.figure(figsize=(16,9),dpi = 100 )\n",
    "ax = fig.add_subplot(111)\n",
    "ax.xaxis.set_major_locator(ticker.MultipleLocator(base=5)) # 解决X轴密集问题\n",
    "plt.plot(avg_ret[['ret+1']].cumprod())"
   ]
  },
  {
   "cell_type": "code",
   "execution_count": null,
   "metadata": {},
   "outputs": [],
   "source": [
    "import matplotlib.pyplot as plt\n",
    "import matplotlib.ticker as ticker\n",
    "fig = plt.figure(figsize=(16, 9))\n",
    "ax = fig.add_subplot(111)\n",
    "ax.xaxis.set_major_locator(ticker.MultipleLocator(10))\n",
    "# plt.plot(px[px.order_book_id == 'IH99']['date'], px[px.order_book_id == 'IH99']['c/-3c'], label='IH99')\n",
    "# plt.plot(px[px.order_book_id == 'IC99']['date'], px[px.order_book_id == 'IC99']['c/-3c'], label='IC99')\n",
    "plt.plot(px_IH99['close'], label='IH99')\n",
    "plt.plot(px_016['close'], label='000016.XSHG')\n",
    "plt.xlabel('date')\n",
    "plt.ylabel('price')\n",
    "plt.legend()"
   ]
  },
  {
   "cell_type": "code",
   "execution_count": 4,
   "metadata": {},
   "outputs": [
    {
     "name": "stdout",
     "output_type": "stream",
     "text": [
      "        A    B  pct_change\n",
      "0  group1  100         NaN\n",
      "1  group1  120         NaN\n",
      "2  group2   90         NaN\n",
      "3  group2  110         NaN\n",
      "4  group1   70   -0.300000\n",
      "5  group1   80   -0.333333\n",
      "6  group2  100    0.111111\n",
      "7  group2  120    0.090909\n",
      "        A    B  pct_change\n",
      "0  group1  100         NaN\n",
      "1  group1  120         NaN\n",
      "4  group1   70   -0.300000\n",
      "5  group1   80   -0.333333\n"
     ]
    }
   ],
   "source": [
    "import pandas as pd\n",
    "\n",
    "# 创建示例数据\n",
    "data = {'A': ['group1', 'group1', 'group2', 'group2', 'group1', 'group1', 'group2', 'group2'],\n",
    "        'B': [100, 120, 90, 110, 70, 80, 100, 120]}\n",
    "df = pd.DataFrame(data)\n",
    "\n",
    "# 按A列进行分组，并在每个分组内计算B列的百分比变化，并生成新列\n",
    "df['pct_change'] = df.groupby('A')['B'].transform(lambda x: x.pct_change(2)) # 2代表今天和前2天的差值\n",
    "\n",
    "# 输出结果\n",
    "print(df)\n",
    "print(df[df.A == 'group1'])"
   ]
  }
 ],
 "metadata": {
  "kernelspec": {
   "display_name": "Python 3",
   "language": "python",
   "name": "python3"
  },
  "language_info": {
   "codemirror_mode": {
    "name": "ipython",
    "version": 3
   },
   "file_extension": ".py",
   "mimetype": "text/x-python",
   "name": "python",
   "nbconvert_exporter": "python",
   "pygments_lexer": "ipython3",
   "version": "3.8.9"
  }
 },
 "nbformat": 4,
 "nbformat_minor": 2
}

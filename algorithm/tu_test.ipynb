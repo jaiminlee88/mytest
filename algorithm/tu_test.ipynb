{
 "cells": [
  {
   "cell_type": "code",
   "execution_count": 1,
   "metadata": {},
   "outputs": [
    {
     "data": {
      "text/plain": [
       "True"
      ]
     },
     "execution_count": 1,
     "metadata": {},
     "output_type": "execute_result"
    }
   ],
   "source": [
    "import re\n",
    "def isEmail(email_str:str) -> bool:\n",
    "    if re.match(r'^[a-zA-Z0-9_.+-]+@[a-zA-Z0-9-]+\\.[a-zA-Z0-9-.]+$', email_str):\n",
    "        return True\n",
    "    else:\n",
    "        return False\n",
    "isEmail('.123abd@qq.com')"
   ]
  },
  {
   "cell_type": "code",
   "execution_count": null,
   "metadata": {},
   "outputs": [],
   "source": [
    "cd /data/tick/eq/std/ && ln -sf ../std.ha/20240416.cntick.lz4 /data/tick/eq/std/20240416.cntick.lz4\n",
    "cd /data/tick/eq/std/ && ln -sf ../std.ha/20240417.cntick.lz4 /data/tick/eq/std/20240417.cntick.lz4\n",
    "cd /data/tick/eq/std/ && ln -sf ../std.ha/20240417.snap.lz4   /data/tick/eq/std/20240417.snap.lz4  \n",
    "cd /data/tick/eq/std/ && ln -sf ../std.ha/20240416.snap.lz4   /data/tick/eq/std/20240416.snap.lz4  \n",
    "\n",
    "cd /data/tick/idx/std/ && ln -sf ../std.ha/20240416.cntick.lz4 /data/tick/idx/std/20240416.cntick.lz4\n",
    "cd /data/tick/idx/std/ && ln -sf ../std.ha/20240417.cntick.lz4 /data/tick/idx/std/20240417.cntick.lz4\n",
    "cd /data/tick/idx/std/ && ln -sf ../std.ha/20240417.snap.lz4   /data/tick/idx/std/20240417.snap.lz4  \n",
    "cd /data/tick/idx/std/ && ln -sf ../std.ha/20240416.snap.lz4   /data/tick/idx/std/20240416.snap.lz4  \n",
    "\n",
    "cd /data/tick/etf/std/ && ln -sf ../std.ha/20240416.cntick.lz4  /data/tick/etf/std/20240416.cntick.lz4\n",
    "cd /data/tick/etf/std/ && ln -sf ../std.ha/20240417.cntick.lz4  /data/tick/etf/std/20240417.cntick.lz4\n",
    "cd /data/tick/etf/std/ && ln -sf ../std.ha/20240417.snap.lz4    /data/tick/etf/std/20240417.snap.lz4  \n",
    "cd /data/tick/etf/std/ && ln -sf ../std.ha/20240416.snap.lz4    /data/tick/etf/std/20240416.snap.lz4  "
   ]
  }
 ],
 "metadata": {
  "kernelspec": {
   "display_name": "Python 3",
   "language": "python",
   "name": "python3"
  },
  "language_info": {
   "codemirror_mode": {
    "name": "ipython",
    "version": 3
   },
   "file_extension": ".py",
   "mimetype": "text/x-python",
   "name": "python",
   "nbconvert_exporter": "python",
   "pygments_lexer": "ipython3",
   "version": "3.8.9"
  }
 },
 "nbformat": 4,
 "nbformat_minor": 2
}

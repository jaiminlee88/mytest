{
 "cells": [
  {
   "cell_type": "code",
   "execution_count": 9,
   "metadata": {},
   "outputs": [
    {
     "name": "stdout",
     "output_type": "stream",
     "text": [
      "[0, 0, 1, 1]\n",
      "[0, 1, 0, 1]\n",
      "[0, 1, 1, 0]\n",
      "[1, 0, 0, 1]\n",
      "[1, 0, 1, 0]\n",
      "[1, 1, 0, 0]\n"
     ]
    }
   ],
   "source": [
    "def permute_unique(nums):\n",
    "    def backtrack(start):\n",
    "        if start == len(nums):\n",
    "            result.append(nums[:])  # 添加当前排列的副本\n",
    "            return\n",
    "        seen = set()  # 记录这一层已经尝试过的数字\n",
    "        for i in range(start, len(nums)):\n",
    "            if nums[i] in seen:\n",
    "                continue  # 跳过已经尝试过的数字\n",
    "            seen.add(nums[i])\n",
    "            nums[start], nums[i] = nums[i], nums[start]  # 交换元素\n",
    "            backtrack(start + 1)\n",
    "            nums[start], nums[i] = nums[i], nums[start]  # 恢复原状\n",
    "\n",
    "    result = []\n",
    "    backtrack(0)\n",
    "    return result\n",
    "\n",
    "# 测试代码\n",
    "nums = [0, 0, 1, 1]\n",
    "for permutation in permute_unique(nums):\n",
    "    print(permutation)\n"
   ]
  }
 ],
 "metadata": {
  "kernelspec": {
   "display_name": "Python 3",
   "language": "python",
   "name": "python3"
  },
  "language_info": {
   "codemirror_mode": {
    "name": "ipython",
    "version": 3
   },
   "file_extension": ".py",
   "mimetype": "text/x-python",
   "name": "python",
   "nbconvert_exporter": "python",
   "pygments_lexer": "ipython3",
   "version": "3.8.9"
  }
 },
 "nbformat": 4,
 "nbformat_minor": 2
}
